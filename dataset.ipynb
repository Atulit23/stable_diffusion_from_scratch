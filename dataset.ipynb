{
 "cells": [
  {
   "cell_type": "code",
   "execution_count": null,
   "metadata": {},
   "outputs": [
    {
     "name": "stderr",
     "output_type": "stream",
     "text": [
      "100%|██████████| 10000/10000 [01:09<00:00, 143.54it/s]"
     ]
    },
    {
     "name": "stdout",
     "output_type": "stream",
     "text": [
      " Dataset downloaded successfully\n"
     ]
    },
    {
     "name": "stderr",
     "output_type": "stream",
     "text": [
      "\n"
     ]
    }
   ],
   "source": [
    "from datasets import load_dataset\n",
    "import os\n",
    "from tqdm import tqdm\n",
    "\n",
    "output_dir = \"coco_subset\"\n",
    "os.makedirs(os.path.join(output_dir, \"images\"), exist_ok=True)\n",
    "os.makedirs(os.path.join(output_dir, \"captions\"), exist_ok=True)\n",
    "\n",
    "try:\n",
    "    dataset = load_dataset(\"VikramSingh178/Products-10k-BLIP-captions\", split=\"test\")\n",
    "    start_idx = 0\n",
    "\n",
    "    for i, example in tqdm(enumerate(dataset), total=len(dataset)):\n",
    "        global_idx = start_idx + i\n",
    "        image = example[\"image\"]  \n",
    "        filename = f\"{global_idx:08d}.jpg\"\n",
    "\n",
    "        if image is not None:\n",
    "            image.save(os.path.join(output_dir, \"images\", filename))\n",
    "\n",
    "        caption_field = \"text\" if \"text\" in example else \"text\"\n",
    "        \n",
    "        caption = example[caption_field]\n",
    "        if isinstance(caption, list):\n",
    "            caption = caption[0]\n",
    "\n",
    "        with open(os.path.join(output_dir, \"captions\", f\"{global_idx:08d}.txt\"), \"w\", encoding=\"utf-8\") as f:\n",
    "            f.write(caption)\n",
    "    \n",
    "    print(\" Dataset downloaded successfully\")\n",
    "    \n",
    "except Exception as e:\n",
    "    print(f\"Error: {e}\")\n"
   ]
  },
  {
   "cell_type": "code",
   "execution_count": null,
   "metadata": {},
   "outputs": [],
   "source": []
  }
 ],
 "metadata": {
  "kernelspec": {
   "display_name": "venv",
   "language": "python",
   "name": "python3"
  },
  "language_info": {
   "codemirror_mode": {
    "name": "ipython",
    "version": 3
   },
   "file_extension": ".py",
   "mimetype": "text/x-python",
   "name": "python",
   "nbconvert_exporter": "python",
   "pygments_lexer": "ipython3",
   "version": "3.12.3"
  }
 },
 "nbformat": 4,
 "nbformat_minor": 2
}
